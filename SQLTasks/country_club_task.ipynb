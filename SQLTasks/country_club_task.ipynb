{
 "cells": [
  {
   "cell_type": "code",
   "execution_count": 28,
   "metadata": {},
   "outputs": [],
   "source": [
    "import sqlite3\n",
    "from sqlite3 import Error"
   ]
  },
  {
   "cell_type": "code",
   "execution_count": 29,
   "metadata": {},
   "outputs": [],
   "source": [
    "def create_connection(db_file):\n",
    "    conn = None\n",
    "    try:\n",
    "        conn = sqlite3.connect(db_file)\n",
    "    except Error as e:\n",
    "        print(e)\n",
    "        \n",
    "    return conn    "
   ]
  },
  {
   "cell_type": "code",
   "execution_count": 30,
   "metadata": {},
   "outputs": [],
   "source": [
    "def select_all_members_recommended(conn):\n",
    "    cur = conn.cursor()\n",
    "    cur.execute(\"select m.firstname, m.surname, r.firstname, r.surname from `Members`m left outer join `Members` r on r.memid = m.recommendedby order by m.surname, m.firstname;\")\n",
    "    rows = cur.fetchall()\n",
    "    print(rows)"
   ]
  },
  {
   "cell_type": "code",
   "execution_count": 41,
   "metadata": {},
   "outputs": [],
   "source": [
    "def select_facilities_revenue(conn):\n",
    "    cur = conn.cursor()\n",
    "    cur.execute(\"select name, totalrevenue from (select f.name, sum(case when memid = 0 then slots * f.guestcost else slots * membercost end) as totalrevenue from Bookings b inner join Facilities f on b.facid = f.facid group by f.name) as selected_facilities where totalrevenue <= 1000 order by totalrevenue\")\n",
    "    rows = cur.fetchall()\n",
    "    print(rows)"
   ]
  },
  {
   "cell_type": "code",
   "execution_count": 42,
   "metadata": {},
   "outputs": [],
   "source": [
    "def select_facilities_usage_by_members(conn):\n",
    "    cur = conn.cursor()\n",
    "    cur.execute(\"select f.name,count(f.facid) from `Facilities` f left join `Bookings` b on f.facid = b.facid where b.memid !=0 group by b.facid\")\n",
    "    rows = cur.fetchall()\n",
    "    print(rows)\n",
    "    "
   ]
  },
  {
   "cell_type": "code",
   "execution_count": 55,
   "metadata": {},
   "outputs": [],
   "source": [
    "def select_facilites_usage_by_month_members(conn):\n",
    "    cur = conn.cursor()\n",
    "    cur.execute(\"select f.name,count(f.facid) from `Facilities` f left join `Bookings` b on f.facid = b.facid where b.memid !=0 group by strftime('%m',starttime)\")\n",
    "    rows = cur.fetchall()\n",
    "    print(rows)"
   ]
  },
  {
   "cell_type": "code",
   "execution_count": 56,
   "metadata": {},
   "outputs": [],
   "source": [
    "def main():\n",
    "    database = \"sqlite_db_pythonsqlite.db\"\n",
    "\n",
    "    # create a database connection\n",
    "    conn = create_connection(database)\n",
    "    with conn:\n",
    "        print(\"1. Produce a list of facilities with a total revenue less than 1000. The output of facility name and total revenue, sorted by revenue. Remember that there's a different cost for guests and members!\")\n",
    "        select_facilities_revenue(conn)\n",
    "\n",
    "        print(\"2. Produce a report of members and who recommended them in alphabetic surname,firstname order\")\n",
    "        select_all_members_recommended(conn)\n",
    "        \n",
    "        print(\"3. Find the facilities with their usage by member, but not guests\")\n",
    "        select_facilities_usage_by_members(conn)\n",
    "        \n",
    "        print(\"4. Find the facilities usage by month, but not guests\")\n",
    "        select_facilites_usage_by_month_members(conn)\n",
    "       \n",
    "        \n",
    "        "
   ]
  },
  {
   "cell_type": "code",
   "execution_count": 57,
   "metadata": {},
   "outputs": [
    {
     "name": "stdout",
     "output_type": "stream",
     "text": [
      "1. Produce a list of facilities with a total revenue less than 1000. The output of facility name and total revenue, sorted by revenue. Remember that there's a different cost for guests and members!\n",
      "[('Table Tennis', 180), ('Snooker Table', 240), ('Pool Table', 270)]\n",
      "2. Produce a report of members and who recommended them in alphabetic surname,firstname order\n",
      "[('Florence', 'Bader', 'Ponder', 'Stibbons'), ('Anne', 'Baker', 'Ponder', 'Stibbons'), ('Timothy', 'Baker', 'Jemima', 'Farrell'), ('Tim', 'Boothe', 'Tim', 'Rownam'), ('Gerald', 'Butters', 'Darren', 'Smith'), ('Joan', 'Coplin', 'Timothy', 'Baker'), ('Erica', 'Crumpet', 'Tracy', 'Smith'), ('Nancy', 'Dare', 'Janice', 'Joplette'), ('David', 'Farrell', None, None), ('Jemima', 'Farrell', None, None), ('GUEST', 'GUEST', None, None), ('Matthew', 'Genting', 'Gerald', 'Butters'), ('John', 'Hunt', 'Millicent', 'Purview'), ('David', 'Jones', 'Janice', 'Joplette'), ('Douglas', 'Jones', 'David', 'Jones'), ('Janice', 'Joplette', 'Darren', 'Smith'), ('Anna', 'Mackenzie', 'Darren', 'Smith'), ('Charles', 'Owen', 'Darren', 'Smith'), ('David', 'Pinker', 'Jemima', 'Farrell'), ('Millicent', 'Purview', 'Tracy', 'Smith'), ('Tim', 'Rownam', None, None), ('Henrietta', 'Rumney', 'Matthew', 'Genting'), ('Ramnaresh', 'Sarwin', 'Florence', 'Bader'), ('Darren', 'Smith', None, None), ('Darren', 'Smith', None, None), ('Jack', 'Smith', 'Darren', 'Smith'), ('Tracy', 'Smith', None, None), ('Ponder', 'Stibbons', 'Burton', 'Tracy'), ('Burton', 'Tracy', None, None), ('Hyacinth', 'Tupperware', None, None), ('Henry', 'Worthington-Smyth', 'Tracy', 'Smith')]\n",
      "3. Find the facilities with their usage by member, but not guests\n",
      "[('Tennis Court 1', 308), ('Tennis Court 2', 276), ('Badminton Court', 344), ('Table Tennis', 385), ('Massage Room 1', 421), ('Massage Room 2', 27), ('Squash Court', 195), ('Snooker Table', 421), ('Pool Table', 783)]\n",
      "4. Find the facilities usage by month, but not guests\n",
      "[('Table Tennis', 480), ('Tennis Court 1', 1168), ('Tennis Court 1', 1512)]\n"
     ]
    }
   ],
   "source": [
    "main()"
   ]
  },
  {
   "cell_type": "code",
   "execution_count": null,
   "metadata": {},
   "outputs": [],
   "source": []
  }
 ],
 "metadata": {
  "kernelspec": {
   "display_name": "Python 3",
   "language": "python",
   "name": "python3"
  },
  "language_info": {
   "codemirror_mode": {
    "name": "ipython",
    "version": 3
   },
   "file_extension": ".py",
   "mimetype": "text/x-python",
   "name": "python",
   "nbconvert_exporter": "python",
   "pygments_lexer": "ipython3",
   "version": "3.8.3"
  }
 },
 "nbformat": 4,
 "nbformat_minor": 4
}
